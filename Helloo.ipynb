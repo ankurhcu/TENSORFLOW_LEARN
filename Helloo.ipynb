{
  "nbformat": 4,
  "nbformat_minor": 0,
  "metadata": {
    "colab": {
      "name": "Helloo.ipynb",
      "provenance": [],
      "authorship_tag": "ABX9TyNhLmQPUoG+1pTnCuzYLl+V",
      "include_colab_link": true
    },
    "kernelspec": {
      "name": "python3",
      "display_name": "Python 3"
    }
  },
  "cells": [
    {
      "cell_type": "markdown",
      "metadata": {
        "id": "view-in-github",
        "colab_type": "text"
      },
      "source": [
        "<a href=\"https://colab.research.google.com/github/ankurhcu/TENSORFLOW_LEARN/blob/master/Helloo.ipynb\" target=\"_parent\"><img src=\"https://colab.research.google.com/assets/colab-badge.svg\" alt=\"Open In Colab\"/></a>"
      ]
    },
    {
      "cell_type": "code",
      "metadata": {
        "id": "F2XcZ4g_x98C",
        "colab_type": "code",
        "colab": {
          "base_uri": "https://localhost:8080/",
          "height": 35
        },
        "outputId": "4fb0b678-0f42-4af4-a61a-d9ad6807f31e"
      },
      "source": [
        "print(\"hello world\")"
      ],
      "execution_count": 1,
      "outputs": [
        {
          "output_type": "stream",
          "text": [
            "hello world\n"
          ],
          "name": "stdout"
        }
      ]
    },
    {
      "cell_type": "code",
      "metadata": {
        "id": "w1mlXjpR122r",
        "colab_type": "code",
        "colab": {}
      },
      "source": [
        "a=10\n",
        "b=20"
      ],
      "execution_count": 0,
      "outputs": []
    },
    {
      "cell_type": "markdown",
      "metadata": {
        "id": "wEoldpNg1dXn",
        "colab_type": "text"
      },
      "source": [
        "add $a$ and $b$ as $a+b$\n",
        "\n"
      ]
    },
    {
      "cell_type": "code",
      "metadata": {
        "id": "-6VAk1EL18rF",
        "colab_type": "code",
        "colab": {}
      },
      "source": [
        "y=a+b"
      ],
      "execution_count": 0,
      "outputs": []
    },
    {
      "cell_type": "markdown",
      "metadata": {
        "id": "-_hC8g2V2A0-",
        "colab_type": "text"
      },
      "source": [
        "print it as $y$"
      ]
    },
    {
      "cell_type": "code",
      "metadata": {
        "id": "dK1tKCRg2Fyp",
        "colab_type": "code",
        "colab": {
          "base_uri": "https://localhost:8080/",
          "height": 35
        },
        "outputId": "4a0ad891-1126-4441-d36a-92620dffcbeb"
      },
      "source": [
        "print(y)"
      ],
      "execution_count": 4,
      "outputs": [
        {
          "output_type": "stream",
          "text": [
            "30\n"
          ],
          "name": "stdout"
        }
      ]
    },
    {
      "cell_type": "markdown",
      "metadata": {
        "id": "5iZTdhNB0Cco",
        "colab_type": "text"
      },
      "source": [
        "this is my **first colab** document or notebook.\n"
      ]
    }
  ]
}